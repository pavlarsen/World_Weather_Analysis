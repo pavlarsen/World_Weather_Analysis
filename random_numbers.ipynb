{
 "cells": [
  {
   "cell_type": "code",
   "execution_count": 1,
   "id": "2027468f",
   "metadata": {},
   "outputs": [],
   "source": [
    "# import the random module\n",
    "import random"
   ]
  },
  {
   "cell_type": "code",
   "execution_count": 2,
   "id": "5ba9f021",
   "metadata": {},
   "outputs": [
    {
     "data": {
      "text/plain": [
       "25"
      ]
     },
     "execution_count": 2,
     "metadata": {},
     "output_type": "execute_result"
    }
   ],
   "source": [
    "random.randint(-90,90)\n",
    "#integer random number between the parameters"
   ]
  },
  {
   "cell_type": "code",
   "execution_count": 3,
   "id": "17c27cd2",
   "metadata": {},
   "outputs": [
    {
     "data": {
      "text/plain": [
       "0.11309523536618271"
      ]
     },
     "execution_count": 3,
     "metadata": {},
     "output_type": "execute_result"
    }
   ],
   "source": [
    "random.random()\n",
    "#single floating point decimal number between 0 and 1.0"
   ]
  },
  {
   "cell_type": "code",
   "execution_count": 4,
   "id": "05d3a9e9",
   "metadata": {},
   "outputs": [
    {
     "data": {
      "text/plain": [
       "43.32545049112121"
      ]
     },
     "execution_count": 4,
     "metadata": {},
     "output_type": "execute_result"
    }
   ],
   "source": [
    "# merge randint and random to create random latitudes\n",
    "random_number = random.randint(-90,89)+random.random()\n",
    "random_number"
   ]
  },
  {
   "cell_type": "code",
   "execution_count": 5,
   "id": "76104b64",
   "metadata": {},
   "outputs": [
    {
     "data": {
      "text/plain": [
       "[86.76913698266814,\n",
       " -42.41932444302111,\n",
       " 33.49887530690916,\n",
       " 54.98922451627238,\n",
       " -45.76056936916053,\n",
       " 0.7729461218410661,\n",
       " -20.846764002716945,\n",
       " 36.427731091794676,\n",
       " -70.73236171912308,\n",
       " -43.022856461661064]"
      ]
     },
     "execution_count": 5,
     "metadata": {},
     "output_type": "execute_result"
    }
   ],
   "source": [
    "# create an algorithm to generate 10 random latitudes\n",
    "x=1\n",
    "latitudes = []\n",
    "while x < 11:\n",
    "    random_lat = random.randint(-90,89)+random.random()\n",
    "    latitudes.append(random_lat)\n",
    "    x+= 1\n",
    "latitudes\n",
    "    "
   ]
  },
  {
   "cell_type": "code",
   "execution_count": 6,
   "id": "5cdc9689",
   "metadata": {},
   "outputs": [
    {
     "data": {
      "text/plain": [
       "-67"
      ]
     },
     "execution_count": 6,
     "metadata": {},
     "output_type": "execute_result"
    }
   ],
   "source": [
    "random.randrange(-90,90,step=1)\n",
    "#set upper and lower limits and adds a step parameter which will generate increments of a given integer value."
   ]
  },
  {
   "cell_type": "code",
   "execution_count": 7,
   "id": "036dcaa2",
   "metadata": {},
   "outputs": [
    {
     "data": {
      "text/plain": [
       "-24"
      ]
     },
     "execution_count": 7,
     "metadata": {},
     "output_type": "execute_result"
    }
   ],
   "source": [
    "random.randrange(-90,90,step=3)"
   ]
  },
  {
   "cell_type": "code",
   "execution_count": 8,
   "id": "fad3a965",
   "metadata": {},
   "outputs": [
    {
     "data": {
      "text/plain": [
       "13.132382213314159"
      ]
     },
     "execution_count": 8,
     "metadata": {},
     "output_type": "execute_result"
    }
   ],
   "source": [
    "#uniform() will allow us to generate a floating point decimal number between two given numbrers inside the parentheses.\n",
    "random.uniform(-90,90)"
   ]
  },
  {
   "cell_type": "code",
   "execution_count": 9,
   "id": "0fdde166",
   "metadata": {},
   "outputs": [],
   "source": [
    "#NumPy module is a numerical mathematics library to make arrays or matrices of numbers\n",
    "#import the NumPy module\n",
    "import numpy as np"
   ]
  },
  {
   "cell_type": "code",
   "execution_count": 10,
   "id": "acd7aa43",
   "metadata": {},
   "outputs": [
    {
     "data": {
      "text/plain": [
       "52.05615898652778"
      ]
     },
     "execution_count": 10,
     "metadata": {},
     "output_type": "execute_result"
    }
   ],
   "source": [
    "np.random.uniform(-90.000, 90.000)\n"
   ]
  },
  {
   "cell_type": "code",
   "execution_count": 11,
   "id": "2fe1fbca",
   "metadata": {},
   "outputs": [
    {
     "data": {
      "text/plain": [
       "array([-29.66544368,  89.0710536 , -27.97259759,  77.53625555,\n",
       "        16.67572672,  62.79273311,  -1.63933514,  -2.04824704,\n",
       "       -13.32732   , -82.70684966,  33.90280272, -68.01868428,\n",
       "        71.65220605, -35.66179874, -13.45514531,  62.536054  ,\n",
       "       -60.52482744,  46.15172275, -26.51956804,   7.64608014,\n",
       "       -17.6661014 ,  47.5345586 ,  30.86722408, -28.6290229 ,\n",
       "        53.56380599, -55.34448939,   2.8310552 , -65.80447127,\n",
       "       -63.13455398,  77.99525157, -73.70467155, -36.01545375,\n",
       "       -44.55246122,  32.83486029,  19.60083741,  48.10347229,\n",
       "       -44.75121822, -18.09669966,  48.61363627, -29.27189059,\n",
       "       -28.11099265,  48.48298117,  -9.01195343, -60.76284418,\n",
       "        51.89884996, -56.39012213, -52.64023813, -87.08860623,\n",
       "       -23.36873982, -71.74075702])"
      ]
     },
     "execution_count": 11,
     "metadata": {},
     "output_type": "execute_result"
    }
   ],
   "source": [
    "# to generate more than one floating point decimal number we can add the \"size\" parameter when we use the NumPy modue\n",
    "np.random.uniform(-90,90, size = 50)"
   ]
  },
  {
   "cell_type": "code",
   "execution_count": 12,
   "id": "7807cd32",
   "metadata": {},
   "outputs": [],
   "source": [
    "#import timeit\n",
    "import timeit"
   ]
  },
  {
   "cell_type": "code",
   "execution_count": 13,
   "id": "6c639f41",
   "metadata": {},
   "outputs": [
    {
     "name": "stdout",
     "output_type": "stream",
     "text": [
      "19.3 µs ± 65.4 ns per loop (mean ± std. dev. of 7 runs, 10000 loops each)\n"
     ]
    }
   ],
   "source": [
    "%timeit np.random.uniform(-90, 90, size = 1500)"
   ]
  },
  {
   "cell_type": "code",
   "execution_count": 14,
   "id": "725fef23",
   "metadata": {},
   "outputs": [
    {
     "name": "stdout",
     "output_type": "stream",
     "text": [
      "1.13 ms ± 2.65 µs per loop (mean ± std. dev. of 7 runs, 1000 loops each)\n"
     ]
    }
   ],
   "source": [
    "def latitudes(size):\n",
    "    latitudes = []\n",
    "    x = 0\n",
    "    while x < (size):\n",
    "        random_lat = random.randint(-90, 90) + random.random()\n",
    "        latitudes.append(random_lat)\n",
    "        x += 1\n",
    "    return latitudes\n",
    "# Call the function with 1500.\n",
    "%timeit latitudes(1500)"
   ]
  },
  {
   "cell_type": "code",
   "execution_count": null,
   "id": "202417fb",
   "metadata": {},
   "outputs": [],
   "source": []
  }
 ],
 "metadata": {
  "kernelspec": {
   "display_name": "Python 3 (ipykernel)",
   "language": "python",
   "name": "python3"
  },
  "language_info": {
   "codemirror_mode": {
    "name": "ipython",
    "version": 3
   },
   "file_extension": ".py",
   "mimetype": "text/x-python",
   "name": "python",
   "nbconvert_exporter": "python",
   "pygments_lexer": "ipython3",
   "version": "3.9.12"
  }
 },
 "nbformat": 4,
 "nbformat_minor": 5
}
